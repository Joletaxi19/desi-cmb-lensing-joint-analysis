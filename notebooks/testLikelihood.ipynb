{
 "cells": [
  {
   "cell_type": "markdown",
   "id": "d8670517-6fa5-46aa-a037-274812679ceb",
   "metadata": {},
   "source": [
    "General imports"
   ]
  },
  {
   "cell_type": "code",
   "execution_count": 1,
   "id": "beacaebf-b313-4cd4-98cd-4531eb60a3d7",
   "metadata": {},
   "outputs": [],
   "source": [
    "import numpy as np\n",
    "import sys\n",
    "sys.path.append('../likelihoods/')\n",
    "from gaussLike import gaussLike"
   ]
  },
  {
   "cell_type": "markdown",
   "id": "e250b1b8-35e9-4690-bb07-d1a25eb11681",
   "metadata": {},
   "source": [
    "# Testing $\\verb|gaussLike.py|$"
   ]
  },
  {
   "cell_type": "code",
   "execution_count": 2,
   "id": "edcc10df-6453-4e49-ade3-0cee72617e61",
   "metadata": {},
   "outputs": [],
   "source": [
    "# a mock set of data, in this case D i.i.d.'s\n",
    "# drawn from a unit normal distribution\n",
    "D = 20\n",
    "dat = np.random.normal(size=D)\n",
    "cov = np.diag(np.ones(D))"
   ]
  },
  {
   "cell_type": "markdown",
   "id": "9ee37db7-fbce-4edc-9fc7-1cc11b360f33",
   "metadata": {
    "jp-MarkdownHeadingCollapsed": true
   },
   "source": [
    "### A nonzero number of templates"
   ]
  },
  {
   "cell_type": "code",
   "execution_count": 3,
   "id": "38bad9f0-24bf-4b8d-b299-0ec25b4af32a",
   "metadata": {},
   "outputs": [
    {
     "name": "stdout",
     "output_type": "stream",
     "text": [
      "Number of data points 20\n",
      "Number of templates 2\n",
      "These should be equal 0.05305164769729845 0.05305164769729845\n"
     ]
    }
   ],
   "source": [
    "# some ridiculous theory prediction\n",
    "# has two templates (res2 and res3)\n",
    "def thy(x,y,z):\n",
    "    res1 = np.ones(D) * x*y*z\n",
    "    res2 = np.ones(D) * x\n",
    "    res3 = np.ones(D) * z\n",
    "    return np.array([res1,res2,res3]).T\n",
    "\n",
    "# priors on the two templates\n",
    "tmp_priors = np.array([[0,1],[1,3]])\n",
    "\n",
    "like = gaussLike(dat, cov, thy, tmp_priors)\n",
    "\n",
    "# some basic checks\n",
    "print('Number of data points',like.D)\n",
    "print('Number of templates',like.T)\n",
    "# sanity check the template prior\n",
    "print(\"These should be equal\",like.templatePrior([0,1]), 1/(1**2 * 3**2 * (2*np.pi)**2)**0.5)"
   ]
  },
  {
   "cell_type": "code",
   "execution_count": 4,
   "id": "137b7058-7cae-43f4-81fa-7ae90c79a83c",
   "metadata": {},
   "outputs": [
    {
     "ename": "RuntimeError",
     "evalue": "tmp_prm not specified, but the number of templates is > 0",
     "output_type": "error",
     "traceback": [
      "\u001b[0;31m---------------------------------------------------------------------------\u001b[0m",
      "\u001b[0;31mRuntimeError\u001b[0m                              Traceback (most recent call last)",
      "Cell \u001b[0;32mIn[4], line 3\u001b[0m\n\u001b[1;32m      1\u001b[0m thy_args \u001b[38;5;241m=\u001b[39m {\u001b[38;5;124m'\u001b[39m\u001b[38;5;124mx\u001b[39m\u001b[38;5;124m'\u001b[39m:\u001b[38;5;241m2\u001b[39m,\u001b[38;5;124m'\u001b[39m\u001b[38;5;124my\u001b[39m\u001b[38;5;124m'\u001b[39m:\u001b[38;5;241m6\u001b[39m,\u001b[38;5;124m'\u001b[39m\u001b[38;5;124mz\u001b[39m\u001b[38;5;124m'\u001b[39m:\u001b[38;5;241m0.1\u001b[39m}\n\u001b[1;32m      2\u001b[0m \u001b[38;5;66;03m# this should throw an error\u001b[39;00m\n\u001b[0;32m----> 3\u001b[0m \u001b[43mlike\u001b[49m\u001b[38;5;241;43m.\u001b[39;49m\u001b[43mrawLogLike\u001b[49m\u001b[43m(\u001b[49m\u001b[43mthy_args\u001b[49m\u001b[43m)\u001b[49m\n",
      "File \u001b[0;32m~/Berkeley/MaPar/notebooks/../likelihoods/gaussLike.py:118\u001b[0m, in \u001b[0;36mgaussLike.rawLogLike\u001b[0;34m(self, thy_args, tmp_prm)\u001b[0m\n\u001b[1;32m    116\u001b[0m       s \u001b[38;5;241m=\u001b[39m \u001b[38;5;124m\"\u001b[39m\u001b[38;5;124mtmp_prm not specified, but the number\u001b[39m\u001b[38;5;124m\"\u001b[39m\n\u001b[1;32m    117\u001b[0m       s \u001b[38;5;241m+\u001b[39m\u001b[38;5;241m=\u001b[39m \u001b[38;5;124m\"\u001b[39m\u001b[38;5;124m of templates is > 0\u001b[39m\u001b[38;5;124m\"\u001b[39m\n\u001b[0;32m--> 118\u001b[0m       \u001b[38;5;28;01mraise\u001b[39;00m \u001b[38;5;167;01mRuntimeError\u001b[39;00m(s)\n\u001b[1;32m    119\u001b[0m    full_thy  \u001b[38;5;241m=\u001b[39m \u001b[38;5;28mself\u001b[39m\u001b[38;5;241m.\u001b[39mthy(\u001b[38;5;241m*\u001b[39m\u001b[38;5;241m*\u001b[39mthy_args) \n\u001b[1;32m    120\u001b[0m \u001b[38;5;28;01melse\u001b[39;00m: \n",
      "\u001b[0;31mRuntimeError\u001b[0m: tmp_prm not specified, but the number of templates is > 0"
     ]
    }
   ],
   "source": [
    "thy_args = {'x':2,'y':6,'z':0.1}\n",
    "# this should throw an error\n",
    "like.rawLogLike(thy_args)"
   ]
  },
  {
   "cell_type": "code",
   "execution_count": null,
   "id": "55a233a5-0e88-45f8-8a05-e86865b49579",
   "metadata": {},
   "outputs": [],
   "source": [
    "# while this shouldn't\n",
    "like.rawLogLike(thy_args, tmp_prm=[0,0])"
   ]
  },
  {
   "cell_type": "code",
   "execution_count": null,
   "id": "c2768a51-3193-428a-946a-8a5379682e3d",
   "metadata": {},
   "outputs": [],
   "source": [
    "print('Analyically marginalized likelihood',like.margLogLike(thy_args))\n",
    "\n",
    "# now the brute force way\n",
    "A = np.linspace(-20,20,200) ; dA = A[1] - A[0]\n",
    "B = np.linspace(-20,20,200) ; dB = B[1] - B[0]\n",
    "brute = 0.\n",
    "for i in range(len(A)):\n",
    "    for j in range(len(B)):\n",
    "        brute += np.exp(like.rawLogLike(thy_args, tmp_prm=[A[i],B[j]]))\n",
    "brute *= dA*dB\n",
    "print('Brute-force marginalized likelihood',np.log(brute))\n",
    "print('Relative difference in percent',100*np.abs((like.margLogLike(thy_args)-np.log(brute))/like.margLogLike(thy_args)))"
   ]
  },
  {
   "cell_type": "code",
   "execution_count": null,
   "id": "d674ed3f-f835-4993-a902-f44cd0ae1d96",
   "metadata": {},
   "outputs": [],
   "source": [
    "print('Analytic maximum',like.maxLogLike(thy_args))\n",
    "\n",
    "# now the brute force way \n",
    "from scipy.optimize import minimize\n",
    "brute = minimize(lambda x: -1*like.rawLogLike(thy_args, tmp_prm=x), x0=np.array([-0.5, -1.2])).fun*-1\n",
    "print('Brute force max ',brute)"
   ]
  },
  {
   "cell_type": "markdown",
   "id": "0584bc3f-bf43-4364-aba3-39f23cda3e3b",
   "metadata": {
    "jp-MarkdownHeadingCollapsed": true
   },
   "source": [
    "### No templates"
   ]
  },
  {
   "cell_type": "code",
   "execution_count": null,
   "id": "6c54c0eb-5073-4cb1-936a-67464c5ba3a3",
   "metadata": {},
   "outputs": [],
   "source": [
    "# some ridiculous theory prediction\n",
    "def thy(x,y,z):\n",
    "    res1 = np.ones(D) * x*y*z\n",
    "    return res1\n",
    "\n",
    "like = gaussLike(dat, cov, thy)\n",
    "\n",
    "# some basic checks\n",
    "print('Number of data points',like.D)\n",
    "print('Number of templates',like.T)\n",
    "# sanity check the template prior\n",
    "print(\"These should be equal\",like.templatePrior([0,1]), 1.)"
   ]
  },
  {
   "cell_type": "code",
   "execution_count": null,
   "id": "38c2abba-f932-40ae-a431-7705a0b352a7",
   "metadata": {},
   "outputs": [],
   "source": [
    "# this should throw an error\n",
    "like.anaHelp(thy_args)"
   ]
  },
  {
   "cell_type": "code",
   "execution_count": null,
   "id": "5dfce49b-2516-4751-9531-0f0c17a67827",
   "metadata": {},
   "outputs": [],
   "source": [
    "# these should all be equal\n",
    "print(like.rawLogLike(thy_args))\n",
    "print(like.margLogLike(thy_args))\n",
    "print(like.maxLogLike(thy_args))"
   ]
  },
  {
   "cell_type": "code",
   "execution_count": null,
   "id": "30129254-ddb1-423d-8c5f-0b5b248a7898",
   "metadata": {},
   "outputs": [],
   "source": []
  }
 ],
 "metadata": {
  "kernelspec": {
   "display_name": "Python 3 (ipykernel)",
   "language": "python",
   "name": "python3"
  },
  "language_info": {
   "codemirror_mode": {
    "name": "ipython",
    "version": 3
   },
   "file_extension": ".py",
   "mimetype": "text/x-python",
   "name": "python",
   "nbconvert_exporter": "python",
   "pygments_lexer": "ipython3",
   "version": "3.10.8"
  }
 },
 "nbformat": 4,
 "nbformat_minor": 5
}
